{
  "cells": [
    {
      "cell_type": "code",
      "execution_count": 1,
      "id": "e66a3108",
      "metadata": {
        "colab": {
          "base_uri": "https://localhost:8080/"
        },
        "id": "e66a3108",
        "outputId": "0a076bce-fd91-415a-cd70-ed6512a8e5ce"
      },
      "outputs": [
        {
          "output_type": "stream",
          "name": "stdout",
          "text": [
            "\n",
            "🟦🟦🟦🟦🟦🟦🟦🟦🟦🏁\n",
            "🟦🟦🟦🟦🍞🟦🟦🟦🟦🟦\n",
            "🟦🟦🟦🥦🟦🟦🍏🟦🟦🟦\n",
            "🟦🟦🟦🟦🟦🟦🟦🟦🟦🟦\n",
            "🟦🟦🟦🟦🟦🟦🟦🟦🟦🟦\n",
            "🟦🟦🟦🟦🟦🟦🟦🟦🟦🟦\n",
            "🟦🟦🟦🟦🟦🟦🟦🟦🟦🟦\n",
            "🟦🟦🟦🥛🟦🟦🟦🟦🟦🟦\n",
            "🟦🟦🟦🟦🟦🟦🟦🟦🟦🟦\n",
            "🚪🟦🟦🟦🟦🟦🟦🟦🟦🟦"
          ]
        }
      ],
      "source": [
        "#Create and print the store map\n",
        "\n",
        "store_map = [[0 for i in range(10)] for j in range(10)]\n",
        "          \n",
        "def show_map():\n",
        "    for x in store_map:\n",
        "        print()\n",
        "        for k in x:\n",
        "            if k == 0:\n",
        "                print('\\U0001F7E6',end=\"\")\n",
        "            else:\n",
        "                print(k,sep=\"\",end=\"\")\n",
        "stock = {\n",
        "\"fruits\" : {\"loc\":(3,7), \"id_\":'\\U0001F34F', \"items\":[\"mango\",\"apple\",\n",
        "                                                      \"grapes\",\"banana\",\"orange\",\n",
        "                                                      \"pineapple\",\"strawberry\"]},\n",
        "\"bakery\" : {\"loc\":(2,5), \"id_\":'\\U0001F35E', \"items\":[\"bread\", \"cake\", \"bun\"]},\n",
        "\"dairy\" : {\"loc\":(8,4), \"id_\":'\\U0001F95B', \"items\":[\"milk\", \"butter\", \"cheese\"]},\n",
        "\"vegetables\" : {\"loc\":(3,4), \"id_\":'\\U0001F966', \"items\":[]},\n",
        "\"entrance\" : {\"loc\":(10,1), \"id_\":'\\U0001F6AA',\"items\":[]},\n",
        "\"counter\" : {\"loc\":(1,10), \"id_\":'\\U0001F3C1',\"items\":[]},\n",
        "}\n",
        "\n",
        "for it in stock.keys():\n",
        "    # print(it)\n",
        "    store_map[stock[it][\"loc\"][0] - 1][stock[it][\"loc\"][1] - 1] = stock[it][\"id_\"]\n",
        "\n",
        "show_map()"
      ]
    },
    {
      "cell_type": "code",
      "execution_count": 2,
      "id": "0298c3f0",
      "metadata": {
        "id": "0298c3f0"
      },
      "outputs": [],
      "source": [
        "#Create a dictionary to store the locations and items\n",
        "\n",
        "c = {\n",
        "                \"fruits\":{\"items\":[\"mango\",\"apple\",\"grapes\",\"banana\",\"orange\",\n",
        "                                   \"pineapple\",\"strawberry\"],\"loc\":(3,7)},\n",
        "                \"dairy\":{\"items\":[\"milk\",\"cheese\",\"butter\",\"yoghurt\",\"curd\",\n",
        "                                  \"ice cream\"],\"loc\":(8,4)},\n",
        "                \"bakery\":{\"items\":[\"bread\",\"pizza base\",\"cake\",\"cookies\"],\n",
        "                          \"loc\":(2,5)},\n",
        "                \"vegetables\" : {\"items\":[\"potato\",\"tomato\",\"carrot\",\"cabbage\",\n",
        "                                         \"cauliflower\",\"beans\"],\"loc\":(3,4)},\n",
        "                \"entrance\":{\"items\":[],\"loc\":(10,1)},\n",
        "                \"exit\":{\"items\":[],\"loc\":(1,10)}\n",
        "    }"
      ]
    },
    {
      "cell_type": "code",
      "execution_count": 3,
      "id": "f0a7d9a1",
      "metadata": {
        "id": "f0a7d9a1"
      },
      "outputs": [],
      "source": [
        "# Mathematical functions to calculate the distance and add the co-ordinates\n",
        "import math\n",
        "co_ordinates = dict()\n",
        "def calc_eucl_dist(x1,y1,x2,y2):\n",
        "    eucl_dist = round(math.sqrt((x1 - x2)**2 + (y1 - y2)**2),2)\n",
        "    return eucl_dist\n",
        "    \n",
        "def add_co_ords(item):\n",
        "     for category in c.keys():\n",
        "        if item.lower() in c[category][\"items\"]:\n",
        "            co_ordinates[category] = c[category][\"loc\"]\n",
        "            \n",
        "def set_category(item):\n",
        "    found = 0\n",
        "    for category in c.keys():\n",
        "        if item.lower() in c[category][\"items\"]:\n",
        "            found = 1\n",
        "            xi = c[category][\"loc\"][0]\n",
        "            yi = c[category][\"loc\"][1]\n",
        "            dist_from_start = calc_eucl_dist(10,1,xi,yi)\n",
        "            h = calc_eucl_dist(1,10,xi,yi)\n",
        "            heuristics[category] = h\n",
        "            graph[category] = [dist_from_start,h]\n",
        "            break\n",
        "    return found\n",
        "h_start_end = calc_eucl_dist(1,10,10,1)\n",
        "graph = {\"entrance\":[0.0,h_start_end],\"exit\":[h_start_end,0.0]}\n",
        "heuristics = dict()\n"
      ]
    },
    {
      "cell_type": "code",
      "execution_count": 4,
      "id": "d9a5aa61",
      "metadata": {
        "colab": {
          "base_uri": "https://localhost:8080/"
        },
        "id": "d9a5aa61",
        "outputId": "59829fc9-5ca5-48fb-8253-ed966be0e0c4"
      },
      "outputs": [
        {
          "name": "stdout",
          "output_type": "stream",
          "text": [
            "CREATE USER LIST --->>\n",
            "\n",
            "Enter no. of items to be added: 2\n",
            "\n",
            "Add item #1: bread\n",
            "\n",
            "Add item #2: milk\n",
            "Want to add more items to the list? (y/n): n\n"
          ]
        }
      ],
      "source": [
        "# Function to create the user list\n",
        "\n",
        "def create_list():\n",
        "    l = []\n",
        "    ans = 'Y'\n",
        "    print('CREATE USER LIST --->>')\n",
        "    while ans.lower() == 'y':\n",
        "        n = int(input(\"\\nEnter no. of items to be added: \"))\n",
        "        ctr = 0\n",
        "        for i in range(n):\n",
        "            ctr += 1\n",
        "            it = input(f'\\nAdd item #{ctr}: ') \n",
        "            existing = set_category(it)\n",
        "            # print(f'Current graph: {graph}\\n')\n",
        "            if not(existing):\n",
        "                print('Invalid name...please enter again!\\n')\n",
        "                continue\n",
        "            else:\n",
        "                add_co_ords(it)\n",
        "\n",
        "        ans = input('Want to add more items to the list? (y/n): ')\n",
        "\n",
        "create_list()"
      ]
    },
    {
      "cell_type": "code",
      "execution_count": 5,
      "id": "e05b2e7f",
      "metadata": {
        "colab": {
          "base_uri": "https://localhost:8080/"
        },
        "id": "e05b2e7f",
        "outputId": "74ba506a-d12e-4060-c269-231e4946afe5"
      },
      "outputs": [
        {
          "output_type": "stream",
          "name": "stdout",
          "text": [
            "{'entrance': {'bakery': 8.94, 'dairy': 3.61}, 'exit': {'entrance': 12.73, 'bakery': 5.1, 'dairy': 9.22}, 'bakery': {'entrance': 8.94, 'exit': 5.1, 'dairy': 6.08}, 'dairy': {'entrance': 3.61, 'exit': 9.22, 'bakery': 6.08}}\n"
          ]
        }
      ],
      "source": [
        "# Generate graph for Dijkstra's Algorithm\n",
        "\n",
        "def generate_adjacency_list():\n",
        "    adjacency_list = {}\n",
        "    n = len(graph)\n",
        "\n",
        "    for i in graph.keys():\n",
        "        adjacency_list[i] = {}\n",
        "        for j in graph.keys():\n",
        "            if i != j and ([i,j] != ['entrance','exit']):\n",
        "                x1, y1 = c[i][\"loc\"]\n",
        "                x2, y2 = c[j][\"loc\"]\n",
        "                dist = calc_eucl_dist(x1, y1, x2, y2)\n",
        "                adjacency_list[i][j] = dist\n",
        "    \n",
        "    print(adjacency_list)\n",
        "    return adjacency_list\n",
        "adj_list = generate_adjacency_list()"
      ]
    },
    {
      "cell_type": "code",
      "execution_count": 8,
      "id": "0db80764",
      "metadata": {
        "colab": {
          "base_uri": "https://localhost:8080/"
        },
        "id": "0db80764",
        "outputId": "3c057bad-c39f-434a-e1d4-aae3b5f36e5f"
      },
      "outputs": [
        {
          "output_type": "stream",
          "name": "stdout",
          "text": [
            "{'entrance': 0, 'dairy': 3.61, 'bakery': 8.94, 'exit': 12.83}\n"
          ]
        }
      ],
      "source": [
        "# Implement Dijkstra's Algorithm\n",
        "\n",
        "import heapq\n",
        "from math import inf\n",
        "\n",
        "\n",
        "def dijkstra(adj, start, target):\n",
        "    path = {start: 0}\n",
        "    parent = {start: None}\n",
        "    pq = [(0, start)]\n",
        "    visited = set()\n",
        "    while pq:\n",
        "        du, u = heapq.heappop(pq)\n",
        "        if u in visited: continue\n",
        "        if u == target:\n",
        "            break\n",
        "        visited.add(u)\n",
        "        # print(adj_list[u])\n",
        "        # print(pq)\n",
        "        for v, weight in adj_list[u].items():\n",
        "            if v not in path or path[v] > du + weight:\n",
        "                path[v] = du + weight\n",
        "                parent[v] = u\n",
        "                heapq.heappush(pq, (path[v], v))\n",
        "\n",
        "\n",
        "    return parent, path\n",
        "\n",
        "parent, path = dijkstra(adj_list, \"entrance\", \"exit\")\n",
        "# print(path)\n",
        "path_list = []\n",
        "for k,v in path.items():\n",
        "    path_list.append((k,v))\n",
        "\n",
        "for i in range(len(path_list)):\n",
        "    for j in range(0,len(path_list)-i-1):\n",
        "        if path_list[j][1] > path_list[j+1][1]:\n",
        "            path_list[j],path_list[j+1] = path_list[j+1],path_list[j]\n",
        "# print(path_list)\n",
        "route = {}\n",
        "for i in range(len(path_list)):\n",
        "    route[path_list[i][0]] = path_list[i][1]\n",
        "\n",
        "print(route)"
      ]
    },
    {
      "cell_type": "code",
      "execution_count": 9,
      "id": "d742d554",
      "metadata": {
        "colab": {
          "base_uri": "https://localhost:8080/"
        },
        "id": "d742d554",
        "outputId": "edd62ebf-32a9-44ce-80c6-fc93bc201bb6"
      },
      "outputs": [
        {
          "output_type": "execute_result",
          "data": {
            "text/plain": [
              "{'entrance': (10, 1), 'dairy': (8, 4), 'bakery': (2, 5), 'exit': (1, 10)}"
            ]
          },
          "metadata": {},
          "execution_count": 9
        }
      ],
      "source": [
        "# Create list of coordinates to be traversed\n",
        "\n",
        "co_ordinates = {}\n",
        "for i in route.keys():\n",
        "    co_ordinates[i] = c[i][\"loc\"]\n",
        "\n",
        "co_ordinates"
      ]
    },
    {
      "cell_type": "code",
      "execution_count": 10,
      "id": "a4a1570c",
      "metadata": {
        "colab": {
          "base_uri": "https://localhost:8080/"
        },
        "id": "a4a1570c",
        "outputId": "14162be3-dced-4af4-df09-9ee53bba2e95"
      },
      "outputs": [
        {
          "output_type": "stream",
          "name": "stdout",
          "text": [
            "Final Path to be taken by Customer --->>\n",
            " [(9, 1), (8, 1), (8, 2), (8, 3), (8, 4), (7, 4), (6, 4), (5, 4), (4, 4), (3, 4), (2, 4), (2, 5), (1, 5), (1, 6), (1, 7), (1, 8), (1, 9), (1, 10)]\n",
            "At (10, 1) Continue straight to reach the dairy section\n",
            "At (8, 1) Turn right and continue straight to reach the dairy section\n",
            "At (8, 4) Continue straight to reach the bakery section\n",
            "At (2, 4) Turn right and continue straight to reach the bakery section\n",
            "At (2, 5) Continue straight to reach the exit section\n",
            "At (1, 5) Turn right and continue straight to reach the exit section\n"
          ]
        }
      ],
      "source": [
        "#Find all coordinates which will be traversed\n",
        "\n",
        "def find_solution(co_ordinates):\n",
        "    l = list(co_ordinates.keys())\n",
        "    steps = []\n",
        "    # print(l)\n",
        "    for i in range(len(l)-1):\n",
        "        xi,yi = co_ordinates[l[i]]\n",
        "        xf,yf = co_ordinates[l[i+1]]\n",
        "        xmove,ymove = xi,yi\n",
        "        while xmove != xf:\n",
        "            if xi < xf: \n",
        "                xmove += 1\n",
        "                direction = 'back'\n",
        "            else:\n",
        "                xmove -= 1\n",
        "                direction = 'ahead'\n",
        "            steps.append((xmove,yi))\n",
        "            # print(steps)\n",
        "        create_instructions(l,i+1,direction,instructions,(xi,yi))\n",
        "        while ymove != yf:\n",
        "            if yi < yf: \n",
        "                ymove += 1\n",
        "                direction = 'right'\n",
        "            else:                   \n",
        "                ymove -= 1\n",
        "                direction = 'left'\n",
        "            steps.append((xf,ymove))\n",
        "        create_instructions(l,i+1,direction,instructions,(xf,yi))\n",
        "        # print(steps)\n",
        "    return steps\n",
        "\n",
        "# Generate voice instructions\n",
        "\n",
        "def create_instructions(l,k,direction,instructions,pos):\n",
        "    if direction == 'left' or direction == 'right':\n",
        "        instructions.append(f'''Turn {direction} and continue straight \n",
        "        to reach the {l[k]} section''')\n",
        "    else:\n",
        "        instructions.append(f\"Continue straight to reach the {l[k]} section\")\n",
        "    positions.append(pos)\n",
        "\n",
        "instructions,positions = [],[]\n",
        "steps = find_solution(co_ordinates)\n",
        "print(\"Final Path to be taken by Customer --->>\\n\",steps)\n",
        "for i in range(len(positions)):\n",
        "    print(\"At\",positions[i],instructions[i])\n",
        "\n"
      ]
    },
    {
      "cell_type": "code",
      "execution_count": null,
      "id": "7b878f91",
      "metadata": {
        "id": "7b878f91"
      },
      "outputs": [],
      "source": [
        "#Voice instructions\n",
        "\n",
        "import pyttsx3\n",
        "\n",
        "def speak(text):\n",
        "    engine = pyttsx3.init()\n",
        "    engine.say(text)\n",
        "    engine.runAndWait()\n",
        "\n",
        "for instruction in instructions:\n",
        "    speak(instruction)"
      ]
    },
    {
      "cell_type": "code",
      "execution_count": 11,
      "id": "a312616e",
      "metadata": {
        "colab": {
          "base_uri": "https://localhost:8080/"
        },
        "id": "a312616e",
        "outputId": "96413765-051b-4fd2-84ad-770af85a6bad"
      },
      "outputs": [
        {
          "output_type": "stream",
          "name": "stdout",
          "text": [
            "\n",
            "\n",
            "                      End\n",
            "🟦🟦🟦🟦🟩🟩🟩🟩🟩🏁\n",
            "🟦🟦🟦🟩🍞🟦🟦🟦🟦🟦\n",
            "🟦🟦🟦🟩🟦🟦🍏🟦🟦🟦\n",
            "🟦🟦🟦🟩🟦🟦🟦🟦🟦🟦\n",
            "🟦🟦🟦🟩🟦🟦🟦🟦🟦🟦\n",
            "🟦🟦🟦🟩🟦🟦🟦🟦🟦🟦\n",
            "🟦🟦🟦🟩🟦🟦🟦🟦🟦🟦\n",
            "🟩🟩🟩🥛🟦🟦🟦🟦🟦🟦\n",
            "🟩🟦🟦🟦🟦🟦🟦🟦🟦🟦\n",
            "🚪🟦🟦🟦🟦🟦🟦🟦🟦🟦\n",
            "Start\n"
          ]
        }
      ],
      "source": [
        "# Show final map\n",
        "\n",
        "def final_map(store_map):\n",
        "    print('                      End')\n",
        "    for i in range(10):\n",
        "        for j in range(10):\n",
        "            # print(f'({i+1},{j+1})')\n",
        "            if ((i+1,j+1) in steps) and ((i+1,j+1) not in co_ordinates.values()):\n",
        "                print('\\U0001F7E9', end=\"\")\n",
        "            # elif ((i+1,j+1) in co_ordinates.values()):\n",
        "            #     print('\\U0001F7E5', end=\"\")\n",
        "            elif store_map[i][j] == 0:\n",
        "                print('\\U0001F7E6',end=\"\")\n",
        "            else:\n",
        "                print(store_map[i][j], end=\"\")\n",
        "        print()\n",
        "    print('Start')\n",
        "            \n",
        "print('\\n')\n",
        "final_map(store_map)"
      ]
    }
  ],
  "metadata": {
    "kernelspec": {
      "display_name": "Python 3 (ipykernel)",
      "language": "python",
      "name": "python3"
    },
    "language_info": {
      "codemirror_mode": {
        "name": "ipython",
        "version": 3
      },
      "file_extension": ".py",
      "mimetype": "text/x-python",
      "name": "python",
      "nbconvert_exporter": "python",
      "pygments_lexer": "ipython3",
      "version": "3.9.13"
    },
    "colab": {
      "provenance": []
    }
  },
  "nbformat": 4,
  "nbformat_minor": 5
}